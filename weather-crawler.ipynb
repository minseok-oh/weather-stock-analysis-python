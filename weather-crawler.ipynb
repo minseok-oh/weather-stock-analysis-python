{
 "cells": [
  {
   "cell_type": "code",
   "execution_count": 22,
   "metadata": {},
   "outputs": [],
   "source": [
    "from bs4 import BeautifulSoup\n",
    "import pandas as pd\n",
    "import requests\n",
    "import re"
   ]
  },
  {
   "cell_type": "code",
   "execution_count": 99,
   "metadata": {},
   "outputs": [],
   "source": [
    "month_day = [ -1, 31, 29, 31, 30, 31, 30, 31, 31, 30, 31, 30, 31 ]\n",
    "res = {'날짜': [], '평균기온': [], '최고기온': [], '최저기온': [], '평균운량': [], '일강수량': []}\n",
    "res['날짜'] = [f'{year}.{month}.{day}' for year in range(2011, 2022) for month in range(1,13) for day in range(1, month_day[month] + 1)]\n",
    "for year in range(2011, 2022): \n",
    "    if ((year - 2012) % 4) != 0: res['날짜'].remove(f'{year}.2.29')"
   ]
  },
  {
   "cell_type": "code",
   "execution_count": 100,
   "metadata": {},
   "outputs": [],
   "source": [
    "for year in range(2011, 2022):\n",
    "    for month in range(1, 13):\n",
    "        url = f\"https://www.weather.go.kr/w/obs-climate/land/past-obs/obs-by-day.do?stn=131&yy={year}&mm={month}&obs=1\"\n",
    "        resp = requests.get(url)\n",
    "        soup = BeautifulSoup(resp.text, \"lxml\")\n",
    "\n",
    "        res['평균기온'] += re.findall('평균기온:(.*)℃', soup.text)\n",
    "        res['최고기온'] += re.findall('최고기온:(.*)℃', soup.text)\n",
    "        res['최저기온'] += re.findall('최저기온:(.*)℃', soup.text)\n",
    "        res['평균운량'] += re.findall('평균운량:(.*)', soup.text)\n",
    "        res['일강수량'] += re.findall('일강수량:(.*?)[m| ]', soup.text)"
   ]
  },
  {
   "cell_type": "code",
   "execution_count": 101,
   "metadata": {},
   "outputs": [],
   "source": [
    "df = pd.DataFrame(res)\n",
    "df.set_index('날짜', inplace=True)\n",
    "\n",
    "df.to_csv('./output/[2011-2021]청주일일날씨.csv')"
   ]
  }
 ],
 "metadata": {
  "kernelspec": {
   "display_name": "Python 3.10.4 64-bit",
   "language": "python",
   "name": "python3"
  },
  "language_info": {
   "codemirror_mode": {
    "name": "ipython",
    "version": 3
   },
   "file_extension": ".py",
   "mimetype": "text/x-python",
   "name": "python",
   "nbconvert_exporter": "python",
   "pygments_lexer": "ipython3",
   "version": "3.10.4"
  },
  "orig_nbformat": 4,
  "vscode": {
   "interpreter": {
    "hash": "bb33f6d328f18c07440802b8c66874c52744b86bff5cfe8eb1d71afeb55a2150"
   }
  }
 },
 "nbformat": 4,
 "nbformat_minor": 2
}
