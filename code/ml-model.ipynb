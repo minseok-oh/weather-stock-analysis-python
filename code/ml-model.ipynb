{
 "cells": [
  {
   "cell_type": "code",
   "execution_count": 27,
   "metadata": {},
   "outputs": [],
   "source": [
    "import pandas as pd\n",
    "from sklearn.model_selection import train_test_split\n",
    "from sklearn.preprocessing import PolynomialFeatures\n",
    "from sklearn.linear_model import LinearRegression"
   ]
  },
  {
   "cell_type": "code",
   "execution_count": 28,
   "metadata": {},
   "outputs": [],
   "source": [
    "weather = pd.read_csv('../input/[2021-2022]청주일일날씨.csv')\n",
    "stock = pd.read_csv('../input/[2021-2022]인바이오 주가.csv')\n",
    "\n",
    "df = pd.merge(left=weather, right=stock, on='날짜')"
   ]
  },
  {
   "cell_type": "code",
   "execution_count": null,
   "metadata": {},
   "outputs": [],
   "source": [
    "df['날짜'] = df['날짜'].astype(str)\n",
    "dates = df['날짜'].str.split(\"- \")\n",
    "\n",
    "df['월'] = dates.str.get(1).map(int)"
   ]
  },
  {
   "cell_type": "code",
   "execution_count": 29,
   "metadata": {},
   "outputs": [],
   "source": [
    "df['저가'] = df['저가'].str.replace(',', '')\n",
    "df['고가'] = df['고가'].str.replace(',', '')\n",
    "\n",
    "df['저가'] = df['저가'].map(int)\n",
    "df['고가'] = df['고가'].map(int)"
   ]
  },
  {
   "cell_type": "code",
   "execution_count": 30,
   "metadata": {},
   "outputs": [],
   "source": [
    "df = df.fillna(method='ffill')\n",
    "df['평균주가'] = (df['저가'] + df['고가'])/2"
   ]
  },
  {
   "cell_type": "code",
   "execution_count": 57,
   "metadata": {},
   "outputs": [
    {
     "name": "stdout",
     "output_type": "stream",
     "text": [
      "(396, 2)\n",
      "(396, 21)\n"
     ]
    }
   ],
   "source": [
    "x = df[['월', '평균기온']]\n",
    "y = df['평균주가']\n",
    "\n",
    "x_train, x_test, y_train, y_test = train_test_split(x, y, test_size=0.2, random_state=1)\n",
    "\n",
    "poly = PolynomialFeatures(degree=5)\n",
    "x_train_poly = poly.fit_transform(x_train)\n",
    "x_test_poly = poly.fit_transform(x_test)\n",
    "print(x_train.shape)\n",
    "print(x_train_poly.shape)"
   ]
  },
  {
   "cell_type": "code",
   "execution_count": 58,
   "metadata": {},
   "outputs": [
    {
     "name": "stdout",
     "output_type": "stream",
     "text": [
      "0.21930058230596206\n"
     ]
    }
   ],
   "source": [
    "lr = LinearRegression()\n",
    "lr.fit(x_train_poly, y_train)\n",
    "\n",
    "r_square = lr.score(x_test_poly, y_test)\n",
    "print(r_square)"
   ]
  }
 ],
 "metadata": {
  "kernelspec": {
   "display_name": "base",
   "language": "python",
   "name": "python3"
  },
  "language_info": {
   "codemirror_mode": {
    "name": "ipython",
    "version": 3
   },
   "file_extension": ".py",
   "mimetype": "text/x-python",
   "name": "python",
   "nbconvert_exporter": "python",
   "pygments_lexer": "ipython3",
   "version": "3.9.13"
  },
  "orig_nbformat": 4,
  "vscode": {
   "interpreter": {
    "hash": "263930470851f494f0ed2879c35b57985588df20f9e529b86e97dd5eb9ddc466"
   }
  }
 },
 "nbformat": 4,
 "nbformat_minor": 2
}
