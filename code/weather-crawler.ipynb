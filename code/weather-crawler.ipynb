{
 "cells": [
  {
   "cell_type": "code",
   "execution_count": 2,
   "metadata": {},
   "outputs": [],
   "source": [
    "from bs4 import BeautifulSoup\n",
    "import pandas as pd\n",
    "import requests\n",
    "import re"
   ]
  },
  {
   "cell_type": "code",
   "execution_count": 3,
   "metadata": {},
   "outputs": [],
   "source": [
    "month_day = [ -1, 31, 29, 31, 30, 31, 30, 31, 31, 30, 31, 30, 31 ]\n",
    "res = {'날짜': [], '평균기온': [], '최고기온': [], '최저기온': [], '평균운량': [], '일강수량': []}\n",
    "res['날짜'] = [f'{year}- {month:02d}- {day:02d}' for year in range(2021, 2023) for month in range(1,13) for day in range(1, month_day[month] + 1)]\n",
    "\n",
    "for year in range(2021, 2023):\n",
    "    if ((year - 2012) % 4) != 0: res['날짜'].remove(f'{year}- 02- 29')\n",
    "    if year == 2022:\n",
    "        for day in range(1, month_day[12] + 1):\n",
    "            res['날짜'].remove(f'2022- 12- {day:02d}')"
   ]
  },
  {
   "cell_type": "code",
   "execution_count": 4,
   "metadata": {},
   "outputs": [],
   "source": [
    "for year in range(2021, 2023):\n",
    "    for month in range(1, 13):\n",
    "        if year == 2022 and month == 12: continue\n",
    "        url = f\"https://www.weather.go.kr/w/obs-climate/land/past-obs/obs-by-day.do?stn=131&yy={year}&mm={month}&obs=1\"\n",
    "        resp = requests.get(url)\n",
    "        soup = BeautifulSoup(resp.text, \"lxml\")\n",
    "\n",
    "        res['평균기온'] += re.findall('평균기온:(.*)℃', soup.text)\n",
    "        res['최고기온'] += re.findall('최고기온:(.*)℃', soup.text)\n",
    "        res['최저기온'] += re.findall('최저기온:(.*)℃', soup.text)\n",
    "        res['평균운량'] += re.findall('평균운량:(.*)', soup.text)\n",
    "        res['일강수량'] += re.findall('일강수량:(.*?)[m| ]', soup.text)"
   ]
  },
  {
   "cell_type": "code",
   "execution_count": 5,
   "metadata": {},
   "outputs": [],
   "source": [
    "df = pd.DataFrame(res)\n",
    "df.set_index('날짜', inplace=True)\n",
    "\n",
    "df.to_csv('../input/[2021-2022]청주일일날씨.csv')"
   ]
  }
 ],
 "metadata": {
  "kernelspec": {
   "display_name": "Python 3.9.13 ('base')",
   "language": "python",
   "name": "python3"
  },
  "language_info": {
   "codemirror_mode": {
    "name": "ipython",
    "version": 3
   },
   "file_extension": ".py",
   "mimetype": "text/x-python",
   "name": "python",
   "nbconvert_exporter": "python",
   "pygments_lexer": "ipython3",
   "version": "3.9.13 (main, Aug 25 2022, 23:51:50) [MSC v.1916 64 bit (AMD64)]"
  },
  "orig_nbformat": 4,
  "vscode": {
   "interpreter": {
    "hash": "263930470851f494f0ed2879c35b57985588df20f9e529b86e97dd5eb9ddc466"
   }
  }
 },
 "nbformat": 4,
 "nbformat_minor": 2
}
